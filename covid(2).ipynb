{
  "nbformat": 4,
  "nbformat_minor": 0,
  "metadata": {
    "colab": {
      "name": "covid(2)",
      "provenance": [],
      "authorship_tag": "ABX9TyMjEaxXssfaVnw02YEYjYkF",
      "include_colab_link": true
    },
    "kernelspec": {
      "name": "python3",
      "display_name": "Python 3"
    }
  },
  "cells": [
    {
      "cell_type": "markdown",
      "metadata": {
        "id": "view-in-github",
        "colab_type": "text"
      },
      "source": [
        "<a href=\"https://colab.research.google.com/github/RAHULSS23/project/blob/master/covid(2).ipynb\" target=\"_parent\"><img src=\"https://colab.research.google.com/assets/colab-badge.svg\" alt=\"Open In Colab\"/></a>"
      ]
    },
    {
      "cell_type": "code",
      "metadata": {
        "colab": {
          "base_uri": "https://localhost:8080/"
        },
        "id": "68yoOtfTAdVw",
        "outputId": "18f7dfb9-a0e4-491d-8a6d-f6d34489d4bd"
      },
      "source": [
        "#Dataset : https://www.dropbox.com/sh/g58jysy5rlm8z9n/AAAP3e2P1r8CvJkMSc9qhACNa?dl=0\r\n",
        "!wget https://www.dropbox.com/sh/g58jysy5rlm8z9n/AAAP3e2P1r8CvJkMSc9qhACNa?dl=0"
      ],
      "execution_count": 1,
      "outputs": [
        {
          "output_type": "stream",
          "text": [
            "--2021-02-11 07:30:30--  https://www.dropbox.com/sh/g58jysy5rlm8z9n/AAAP3e2P1r8CvJkMSc9qhACNa?dl=0\n",
            "Resolving www.dropbox.com (www.dropbox.com)... 162.125.65.18, 2620:100:6027:18::a27d:4812\n",
            "Connecting to www.dropbox.com (www.dropbox.com)|162.125.65.18|:443... connected.\n",
            "HTTP request sent, awaiting response... 301 Moved Permanently\n",
            "Location: /sh/raw/g58jysy5rlm8z9n/AAAP3e2P1r8CvJkMSc9qhACNa [following]\n",
            "--2021-02-11 07:30:31--  https://www.dropbox.com/sh/raw/g58jysy5rlm8z9n/AAAP3e2P1r8CvJkMSc9qhACNa\n",
            "Reusing existing connection to www.dropbox.com:443.\n",
            "HTTP request sent, awaiting response... 302 Found\n",
            "Location: https://uc56179dd502c46e4ed0163b5ea7.dl.dropboxusercontent.com/zip_download_get/AsFK0jEv5LYsKz63L93mFBGmQeCrySMG9C6OO-x9OTFMxfpbVBDz4HemPSnPB_x-jiueaYpsUsFD8xXjGdNIV1UlXF8UrIhQMb3MpzUE3okCUQ [following]\n",
            "--2021-02-11 07:30:31--  https://uc56179dd502c46e4ed0163b5ea7.dl.dropboxusercontent.com/zip_download_get/AsFK0jEv5LYsKz63L93mFBGmQeCrySMG9C6OO-x9OTFMxfpbVBDz4HemPSnPB_x-jiueaYpsUsFD8xXjGdNIV1UlXF8UrIhQMb3MpzUE3okCUQ\n",
            "Resolving uc56179dd502c46e4ed0163b5ea7.dl.dropboxusercontent.com (uc56179dd502c46e4ed0163b5ea7.dl.dropboxusercontent.com)... 162.125.65.15, 2620:100:6027:15::a27d:480f\n",
            "Connecting to uc56179dd502c46e4ed0163b5ea7.dl.dropboxusercontent.com (uc56179dd502c46e4ed0163b5ea7.dl.dropboxusercontent.com)|162.125.65.15|:443... connected.\n",
            "HTTP request sent, awaiting response... 200 OK\n",
            "Length: 442361106 (422M) [application/zip]\n",
            "Saving to: ‘AAAP3e2P1r8CvJkMSc9qhACNa?dl=0’\n",
            "\n",
            "AAAP3e2P1r8CvJkMSc9 100%[===================>] 421.87M  3.40MB/s    in 83s     \n",
            "\n",
            "2021-02-11 07:31:56 (5.07 MB/s) - ‘AAAP3e2P1r8CvJkMSc9qhACNa?dl=0’ saved [442361106/442361106]\n",
            "\n"
          ],
          "name": "stdout"
        }
      ]
    },
    {
      "cell_type": "code",
      "metadata": {
        "id": "5evba-CLBxoa"
      },
      "source": [
        "!unzip dataset"
      ],
      "execution_count": null,
      "outputs": []
    },
    {
      "cell_type": "code",
      "metadata": {
        "id": "XvL92sswB5tY"
      },
      "source": [
        "TRAIN_PATH = \"covid_dataset/Train\"\r\n",
        "VAL_PATH = \"covid_dataset/Test\""
      ],
      "execution_count": 3,
      "outputs": []
    },
    {
      "cell_type": "code",
      "metadata": {
        "id": "x-p7o36dCdsu"
      },
      "source": [
        "import numpy as np\r\n",
        "import matplotlib.pyplot as plt\r\n",
        "import keras\r\n",
        "from keras.layers import *\r\n",
        "from keras.models import *\r\n",
        "from keras.preprocessing import image\r\n",
        "from keras.models import Sequential\r\n",
        "from keras.layers import Dense"
      ],
      "execution_count": 4,
      "outputs": []
    },
    {
      "cell_type": "code",
      "metadata": {
        "id": "_hGbitKrCh_-"
      },
      "source": [
        "#CNN Based Model in Keras\r\n",
        "model = Sequential()\r\n",
        "model.add(Conv2D(32,kernel_size=(3,3),activation='relu',input_shape=(224,224,3)))\r\n",
        "model.add(Conv2D(64,(3,3),activation='relu'))\r\n",
        "model.add(MaxPooling2D(pool_size=(2,2)))\r\n",
        "model.add(Dropout(0.25))\r\n",
        "\r\n",
        "model.add(Conv2D(64,(3,3),activation='relu'))\r\n",
        "model.add(MaxPooling2D(pool_size=(2,2)))\r\n",
        "model.add(Dropout(0.25))\r\n",
        "\r\n",
        "model.add(Conv2D(128,(3,3),activation='relu'))\r\n",
        "model.add(MaxPooling2D(pool_size=(2,2)))\r\n",
        "model.add(Dropout(0.25))\r\n",
        "\r\n",
        "model.add(Flatten())\r\n",
        "model.add(Dense(64,activation='relu'))\r\n",
        "model.add(Dropout(0.5))\r\n",
        "model.add(Dense(1,activation='sigmoid'))\r\n",
        "\r\n",
        "model.compile(loss=keras.losses.binary_crossentropy,optimizer='adam',metrics=['accuracy'])"
      ],
      "execution_count": 5,
      "outputs": []
    },
    {
      "cell_type": "code",
      "metadata": {
        "colab": {
          "base_uri": "https://localhost:8080/"
        },
        "id": "V4G4MhenCkPf",
        "outputId": "09397aab-d574-48e4-fcbe-026499074dfc"
      },
      "source": [
        "model.summary()"
      ],
      "execution_count": 6,
      "outputs": [
        {
          "output_type": "stream",
          "text": [
            "Model: \"sequential\"\n",
            "_________________________________________________________________\n",
            "Layer (type)                 Output Shape              Param #   \n",
            "=================================================================\n",
            "conv2d (Conv2D)              (None, 222, 222, 32)      896       \n",
            "_________________________________________________________________\n",
            "conv2d_1 (Conv2D)            (None, 220, 220, 64)      18496     \n",
            "_________________________________________________________________\n",
            "max_pooling2d (MaxPooling2D) (None, 110, 110, 64)      0         \n",
            "_________________________________________________________________\n",
            "dropout (Dropout)            (None, 110, 110, 64)      0         \n",
            "_________________________________________________________________\n",
            "conv2d_2 (Conv2D)            (None, 108, 108, 64)      36928     \n",
            "_________________________________________________________________\n",
            "max_pooling2d_1 (MaxPooling2 (None, 54, 54, 64)        0         \n",
            "_________________________________________________________________\n",
            "dropout_1 (Dropout)          (None, 54, 54, 64)        0         \n",
            "_________________________________________________________________\n",
            "conv2d_3 (Conv2D)            (None, 52, 52, 128)       73856     \n",
            "_________________________________________________________________\n",
            "max_pooling2d_2 (MaxPooling2 (None, 26, 26, 128)       0         \n",
            "_________________________________________________________________\n",
            "dropout_2 (Dropout)          (None, 26, 26, 128)       0         \n",
            "_________________________________________________________________\n",
            "flatten (Flatten)            (None, 86528)             0         \n",
            "_________________________________________________________________\n",
            "dense (Dense)                (None, 64)                5537856   \n",
            "_________________________________________________________________\n",
            "dropout_3 (Dropout)          (None, 64)                0         \n",
            "_________________________________________________________________\n",
            "dense_1 (Dense)              (None, 1)                 65        \n",
            "=================================================================\n",
            "Total params: 5,668,097\n",
            "Trainable params: 5,668,097\n",
            "Non-trainable params: 0\n",
            "_________________________________________________________________\n"
          ],
          "name": "stdout"
        }
      ]
    },
    {
      "cell_type": "code",
      "metadata": {
        "colab": {
          "base_uri": "https://localhost:8080/"
        },
        "id": "thq2pS6zCoSL",
        "outputId": "3ad1b448-af87-4564-c18b-72971a4d7a62"
      },
      "source": [
        "#Train \r\n",
        "train_datagen = image.ImageDataGenerator(\r\n",
        "    rescale=1./255,\r\n",
        "    shear_range = 0.2,\r\n",
        "    zoom_range = 0.2,\r\n",
        "    horizontal_flip = True,\r\n",
        ")\r\n",
        "test_dataset = image.ImageDataGenerator(rescale=1./255)\r\n",
        "train_generator = train_datagen.flow_from_directory(\r\n",
        "    'covid_dataset/Train',\r\n",
        "    target_size = (224,224),\r\n",
        "    batch_size = 32,\r\n",
        "    class_mode = 'binary')"
      ],
      "execution_count": 7,
      "outputs": [
        {
          "output_type": "stream",
          "text": [
            "Found 486 images belonging to 2 classes.\n"
          ],
          "name": "stdout"
        }
      ]
    },
    {
      "cell_type": "code",
      "metadata": {
        "colab": {
          "base_uri": "https://localhost:8080/"
        },
        "id": "5oMg6dsCCs7S",
        "outputId": "9119a988-5f25-4e2a-c571-a8104e7bc671"
      },
      "source": [
        "train_generator.class_indices"
      ],
      "execution_count": 8,
      "outputs": [
        {
          "output_type": "execute_result",
          "data": {
            "text/plain": [
              "{'covid - Copy': 0, 'normal - Copy': 1}"
            ]
          },
          "metadata": {
            "tags": []
          },
          "execution_count": 8
        }
      ]
    },
    {
      "cell_type": "code",
      "metadata": {
        "colab": {
          "base_uri": "https://localhost:8080/"
        },
        "id": "Gx1jcYSoC6Qf",
        "outputId": "3924ba38-c046-4547-93b4-f5e13ff8509b"
      },
      "source": [
        "validation_generator = test_dataset.flow_from_directory(\r\n",
        "    'covid_dataset/val',\r\n",
        "    target_size = (224,224),\r\n",
        "    batch_size = 32,\r\n",
        "    class_mode = 'binary')\r\n"
      ],
      "execution_count": 10,
      "outputs": [
        {
          "output_type": "stream",
          "text": [
            "Found 486 images belonging to 2 classes.\n"
          ],
          "name": "stdout"
        }
      ]
    },
    {
      "cell_type": "code",
      "metadata": {
        "colab": {
          "base_uri": "https://localhost:8080/"
        },
        "id": "iDMiTjVVDWbB",
        "outputId": "8df62f15-7834-460d-c732-528af8edf9b5"
      },
      "source": [
        "hist = model.fit_generator(\r\n",
        "    train_generator,\r\n",
        "    steps_per_epoch=8,\r\n",
        "    epochs = 10,\r\n",
        "    validation_data = validation_generator,\r\n",
        "    validation_steps=2\r\n",
        ")"
      ],
      "execution_count": null,
      "outputs": [
        {
          "output_type": "stream",
          "text": [
            "/usr/local/lib/python3.6/dist-packages/tensorflow/python/keras/engine/training.py:1844: UserWarning: `Model.fit_generator` is deprecated and will be removed in a future version. Please use `Model.fit`, which supports generators.\n",
            "  warnings.warn('`Model.fit_generator` is deprecated and '\n"
          ],
          "name": "stderr"
        },
        {
          "output_type": "stream",
          "text": [
            "Epoch 1/10\n",
            "8/8 [==============================] - 79s 10s/step - loss: 1.8795 - accuracy: 0.5512 - val_loss: 0.6285 - val_accuracy: 0.7188\n",
            "Epoch 2/10\n",
            "8/8 [==============================] - 86s 11s/step - loss: 0.5907 - accuracy: 0.7200 - val_loss: 0.5922 - val_accuracy: 0.7344\n",
            "Epoch 3/10\n",
            "8/8 [==============================] - 74s 9s/step - loss: 0.5441 - accuracy: 0.7115 - val_loss: 0.5619 - val_accuracy: 0.9688\n",
            "Epoch 4/10\n",
            "8/8 [==============================] - 74s 9s/step - loss: 0.4473 - accuracy: 0.8550 - val_loss: 0.3632 - val_accuracy: 0.9688\n",
            "Epoch 5/10\n",
            "8/8 [==============================] - 76s 9s/step - loss: 0.4203 - accuracy: 0.8149 - val_loss: 0.3934 - val_accuracy: 0.9062\n",
            "Epoch 6/10\n",
            "8/8 [==============================] - 71s 9s/step - loss: 0.3010 - accuracy: 0.8829 - val_loss: 0.1054 - val_accuracy: 0.9844\n",
            "Epoch 7/10\n",
            "8/8 [==============================] - 80s 10s/step - loss: 0.3169 - accuracy: 0.8814 - val_loss: 0.2285 - val_accuracy: 0.9531\n",
            "Epoch 8/10\n",
            "8/8 [==============================] - 76s 9s/step - loss: 0.4441 - accuracy: 0.8741 - val_loss: 0.2859 - val_accuracy: 0.9688\n",
            "Epoch 9/10\n",
            "8/8 [==============================] - 75s 9s/step - loss: 0.2136 - accuracy: 0.9351 - val_loss: 0.1027 - val_accuracy: 0.9688\n",
            "Epoch 10/10\n",
            "4/8 [==============>...............] - ETA: 34s - loss: 0.2031 - accuracy: 0.9216"
          ],
          "name": "stdout"
        }
      ]
    }
  ]
}