{
  "nbformat": 4,
  "nbformat_minor": 0,
  "metadata": {
    "colab": {
      "name": "covid(2)",
      "provenance": [],
      "collapsed_sections": [],
      "authorship_tag": "ABX9TyMZD3U22itU0hCxjMzuE+tC",
      "include_colab_link": true
    },
    "kernelspec": {
      "name": "python3",
      "display_name": "Python 3"
    },
    "accelerator": "GPU"
  },
  "cells": [
    {
      "cell_type": "markdown",
      "metadata": {
        "id": "view-in-github",
        "colab_type": "text"
      },
      "source": [
        "<a href=\"https://colab.research.google.com/github/RAHULSS23/project/blob/master/covid(2).ipynb\" target=\"_parent\"><img src=\"https://colab.research.google.com/assets/colab-badge.svg\" alt=\"Open In Colab\"/></a>"
      ]
    },
    {
      "cell_type": "code",
      "metadata": {
        "colab": {
          "base_uri": "https://localhost:8080/"
        },
        "id": "68yoOtfTAdVw",
        "outputId": "e3979520-6895-452d-f8bd-50457b18791b"
      },
      "source": [
        "#Dataset : https://www.dropbox.com/sh/g58jysy5rlm8z9n/AAAP3e2P1r8CvJkMSc9qhACNa?dl=0\r\n",
        "!wget https://www.dropbox.com/sh/g58jysy5rlm8z9n/AAAP3e2P1r8CvJkMSc9qhACNa?dl=0"
      ],
      "execution_count": 3,
      "outputs": [
        {
          "output_type": "stream",
          "text": [
            "--2021-02-14 08:01:50--  https://www.dropbox.com/sh/g58jysy5rlm8z9n/AAAP3e2P1r8CvJkMSc9qhACNa?dl=0\n",
            "Resolving www.dropbox.com (www.dropbox.com)... 162.125.6.18, 2620:100:6019:18::a27d:412\n",
            "Connecting to www.dropbox.com (www.dropbox.com)|162.125.6.18|:443... connected.\n",
            "HTTP request sent, awaiting response... 301 Moved Permanently\n",
            "Location: /sh/raw/g58jysy5rlm8z9n/AAAP3e2P1r8CvJkMSc9qhACNa [following]\n",
            "--2021-02-14 08:01:50--  https://www.dropbox.com/sh/raw/g58jysy5rlm8z9n/AAAP3e2P1r8CvJkMSc9qhACNa\n",
            "Reusing existing connection to www.dropbox.com:443.\n",
            "HTTP request sent, awaiting response... 302 Found\n",
            "Location: https://uce8692cb1fe657707510d897411.dl.dropboxusercontent.com/zip_download_get/AsQxonA58Mg3jaSQ_fMOPiav2es5imjqwCj6QwA3y5mcTdZpRQn-E93FDPr2GEuhMTkEeiAabMkWOJPrRh52ywu2JsExKOAkaBfqxeIosRPoWw [following]\n",
            "--2021-02-14 08:01:51--  https://uce8692cb1fe657707510d897411.dl.dropboxusercontent.com/zip_download_get/AsQxonA58Mg3jaSQ_fMOPiav2es5imjqwCj6QwA3y5mcTdZpRQn-E93FDPr2GEuhMTkEeiAabMkWOJPrRh52ywu2JsExKOAkaBfqxeIosRPoWw\n",
            "Resolving uce8692cb1fe657707510d897411.dl.dropboxusercontent.com (uce8692cb1fe657707510d897411.dl.dropboxusercontent.com)... 162.125.4.15, 2620:100:601c:15::a27d:60f\n",
            "Connecting to uce8692cb1fe657707510d897411.dl.dropboxusercontent.com (uce8692cb1fe657707510d897411.dl.dropboxusercontent.com)|162.125.4.15|:443... connected.\n",
            "HTTP request sent, awaiting response... 200 OK\n",
            "Length: 661128485 (631M) [application/zip]\n",
            "Saving to: ‘AAAP3e2P1r8CvJkMSc9qhACNa?dl=0’\n",
            "\n",
            "AAAP3e2P1r8CvJkMSc9 100%[===================>] 630.50M  6.08MB/s    in 73s     \n",
            "\n",
            "2021-02-14 08:03:04 (8.66 MB/s) - ‘AAAP3e2P1r8CvJkMSc9qhACNa?dl=0’ saved [661128485/661128485]\n",
            "\n"
          ],
          "name": "stdout"
        }
      ]
    },
    {
      "cell_type": "code",
      "metadata": {
        "id": "5evba-CLBxoa"
      },
      "source": [
        "!unzip dataset"
      ],
      "execution_count": null,
      "outputs": []
    },
    {
      "cell_type": "code",
      "metadata": {
        "id": "XvL92sswB5tY"
      },
      "source": [
        "TRAIN_PATH = \"covid_dataset/val\"\r\n",
        "VAL_PATH = \"covid_dataset/Test\""
      ],
      "execution_count": 7,
      "outputs": []
    },
    {
      "cell_type": "code",
      "metadata": {
        "id": "x-p7o36dCdsu"
      },
      "source": [
        "import numpy as np\r\n",
        "import matplotlib.pyplot as plt\r\n",
        "import keras\r\n",
        "from keras.layers import *\r\n",
        "from keras.models import *\r\n",
        "from keras.preprocessing import image\r\n",
        "from keras.models import Sequential\r\n",
        "from keras.layers import Dense"
      ],
      "execution_count": 9,
      "outputs": []
    },
    {
      "cell_type": "code",
      "metadata": {
        "id": "_hGbitKrCh_-"
      },
      "source": [
        "#CNN Based Model in Keras\r\n",
        "model = Sequential()\r\n",
        "model.add(Conv2D(32,kernel_size=(3,3),activation='relu',input_shape=(224,224,3)))\r\n",
        "model.add(Conv2D(64,(3,3),activation='relu'))\r\n",
        "model.add(MaxPooling2D(pool_size=(2,2)))\r\n",
        "model.add(Dropout(0.25))\r\n",
        "\r\n",
        "model.add(Conv2D(64,(3,3),activation='relu'))\r\n",
        "model.add(MaxPooling2D(pool_size=(2,2)))\r\n",
        "model.add(Dropout(0.25))\r\n",
        "\r\n",
        "model.add(Conv2D(128,(3,3),activation='relu'))\r\n",
        "model.add(MaxPooling2D(pool_size=(2,2)))\r\n",
        "model.add(Dropout(0.25))\r\n",
        "\r\n",
        "model.add(Flatten())\r\n",
        "model.add(Dense(64,activation='relu'))\r\n",
        "model.add(Dropout(0.5))\r\n",
        "model.add(Dense(1,activation='sigmoid'))\r\n",
        "\r\n",
        "model.compile(loss=keras.losses.binary_crossentropy,optimizer='adam',metrics=['accuracy'])"
      ],
      "execution_count": 10,
      "outputs": []
    },
    {
      "cell_type": "code",
      "metadata": {
        "colab": {
          "base_uri": "https://localhost:8080/"
        },
        "id": "V4G4MhenCkPf",
        "outputId": "8ca7d4df-31f5-4a50-fb23-7ea2d3b503e6"
      },
      "source": [
        "model.summary()"
      ],
      "execution_count": 11,
      "outputs": [
        {
          "output_type": "stream",
          "text": [
            "Model: \"sequential\"\n",
            "_________________________________________________________________\n",
            "Layer (type)                 Output Shape              Param #   \n",
            "=================================================================\n",
            "conv2d (Conv2D)              (None, 222, 222, 32)      896       \n",
            "_________________________________________________________________\n",
            "conv2d_1 (Conv2D)            (None, 220, 220, 64)      18496     \n",
            "_________________________________________________________________\n",
            "max_pooling2d (MaxPooling2D) (None, 110, 110, 64)      0         \n",
            "_________________________________________________________________\n",
            "dropout (Dropout)            (None, 110, 110, 64)      0         \n",
            "_________________________________________________________________\n",
            "conv2d_2 (Conv2D)            (None, 108, 108, 64)      36928     \n",
            "_________________________________________________________________\n",
            "max_pooling2d_1 (MaxPooling2 (None, 54, 54, 64)        0         \n",
            "_________________________________________________________________\n",
            "dropout_1 (Dropout)          (None, 54, 54, 64)        0         \n",
            "_________________________________________________________________\n",
            "conv2d_3 (Conv2D)            (None, 52, 52, 128)       73856     \n",
            "_________________________________________________________________\n",
            "max_pooling2d_2 (MaxPooling2 (None, 26, 26, 128)       0         \n",
            "_________________________________________________________________\n",
            "dropout_2 (Dropout)          (None, 26, 26, 128)       0         \n",
            "_________________________________________________________________\n",
            "flatten (Flatten)            (None, 86528)             0         \n",
            "_________________________________________________________________\n",
            "dense (Dense)                (None, 64)                5537856   \n",
            "_________________________________________________________________\n",
            "dropout_3 (Dropout)          (None, 64)                0         \n",
            "_________________________________________________________________\n",
            "dense_1 (Dense)              (None, 1)                 65        \n",
            "=================================================================\n",
            "Total params: 5,668,097\n",
            "Trainable params: 5,668,097\n",
            "Non-trainable params: 0\n",
            "_________________________________________________________________\n"
          ],
          "name": "stdout"
        }
      ]
    },
    {
      "cell_type": "code",
      "metadata": {
        "colab": {
          "base_uri": "https://localhost:8080/"
        },
        "id": "thq2pS6zCoSL",
        "outputId": "968d2853-6b14-4195-f652-841c8f027f5c"
      },
      "source": [
        "#Train \r\n",
        "train_datagen = image.ImageDataGenerator(\r\n",
        "    rescale=1./255,\r\n",
        "    shear_range = 0.2,\r\n",
        "    zoom_range = 0.2,\r\n",
        "    horizontal_flip = True,\r\n",
        ")\r\n",
        "test_dataset = image.ImageDataGenerator(rescale=1./255)\r\n",
        "train_generator = train_datagen.flow_from_directory(\r\n",
        "    'covid_dataset/val',\r\n",
        "    target_size = (224,224),\r\n",
        "    batch_size = 32,\r\n",
        "    class_mode = 'binary')"
      ],
      "execution_count": 12,
      "outputs": [
        {
          "output_type": "stream",
          "text": [
            "Found 486 images belonging to 2 classes.\n"
          ],
          "name": "stdout"
        }
      ]
    },
    {
      "cell_type": "code",
      "metadata": {
        "colab": {
          "base_uri": "https://localhost:8080/"
        },
        "id": "5oMg6dsCCs7S",
        "outputId": "ce39c64c-d688-4dd3-ec75-2580fdf4186b"
      },
      "source": [
        "train_generator.class_indices"
      ],
      "execution_count": 13,
      "outputs": [
        {
          "output_type": "execute_result",
          "data": {
            "text/plain": [
              "{'covid': 0, 'normal': 1}"
            ]
          },
          "metadata": {
            "tags": []
          },
          "execution_count": 13
        }
      ]
    },
    {
      "cell_type": "code",
      "metadata": {
        "colab": {
          "base_uri": "https://localhost:8080/"
        },
        "id": "Gx1jcYSoC6Qf",
        "outputId": "83ae9502-1604-4cf9-ced1-f112f99e5e5c"
      },
      "source": [
        "validation_generator = test_dataset.flow_from_directory(\r\n",
        "    'covid_dataset/val',\r\n",
        "    target_size = (224,224),\r\n",
        "    batch_size = 32,\r\n",
        "    class_mode = 'binary')\r\n"
      ],
      "execution_count": 14,
      "outputs": [
        {
          "output_type": "stream",
          "text": [
            "Found 486 images belonging to 2 classes.\n"
          ],
          "name": "stdout"
        }
      ]
    },
    {
      "cell_type": "code",
      "metadata": {
        "colab": {
          "base_uri": "https://localhost:8080/"
        },
        "id": "iDMiTjVVDWbB",
        "outputId": "6583eaa5-7050-43e2-f2ac-d2bf2ac73c78"
      },
      "source": [
        "hist = model.fit_generator(\r\n",
        "    train_generator,\r\n",
        "    steps_per_epoch=8,\r\n",
        "    epochs = 10,\r\n",
        "    validation_data = validation_generator,\r\n",
        "    validation_steps=2\r\n",
        ")"
      ],
      "execution_count": 15,
      "outputs": [
        {
          "output_type": "stream",
          "text": [
            "/usr/local/lib/python3.6/dist-packages/tensorflow/python/keras/engine/training.py:1844: UserWarning: `Model.fit_generator` is deprecated and will be removed in a future version. Please use `Model.fit`, which supports generators.\n",
            "  warnings.warn('`Model.fit_generator` is deprecated and '\n"
          ],
          "name": "stderr"
        },
        {
          "output_type": "stream",
          "text": [
            "Epoch 1/10\n",
            "8/8 [==============================] - 17s 1s/step - loss: 0.8874 - accuracy: 0.6793 - val_loss: 0.5851 - val_accuracy: 0.7188\n",
            "Epoch 2/10\n",
            "8/8 [==============================] - 10s 1s/step - loss: 0.6241 - accuracy: 0.7143 - val_loss: 0.5259 - val_accuracy: 0.7031\n",
            "Epoch 3/10\n",
            "8/8 [==============================] - 9s 1s/step - loss: 0.4318 - accuracy: 0.7834 - val_loss: 0.3291 - val_accuracy: 0.9844\n",
            "Epoch 4/10\n",
            "8/8 [==============================] - 11s 1s/step - loss: 0.3822 - accuracy: 0.8466 - val_loss: 0.5076 - val_accuracy: 1.0000\n",
            "Epoch 5/10\n",
            "8/8 [==============================] - 10s 1s/step - loss: 0.3438 - accuracy: 0.8784 - val_loss: 0.2752 - val_accuracy: 0.9375\n",
            "Epoch 6/10\n",
            "8/8 [==============================] - 10s 1s/step - loss: 0.3705 - accuracy: 0.8767 - val_loss: 0.2665 - val_accuracy: 0.9688\n",
            "Epoch 7/10\n",
            "8/8 [==============================] - 9s 1s/step - loss: 0.2669 - accuracy: 0.9234 - val_loss: 0.1630 - val_accuracy: 0.9844\n",
            "Epoch 8/10\n",
            "8/8 [==============================] - 11s 1s/step - loss: 0.2890 - accuracy: 0.8897 - val_loss: 0.2191 - val_accuracy: 0.9844\n",
            "Epoch 9/10\n",
            "8/8 [==============================] - 10s 1s/step - loss: 0.2101 - accuracy: 0.8975 - val_loss: 0.1417 - val_accuracy: 0.9844\n",
            "Epoch 10/10\n",
            "8/8 [==============================] - 10s 1s/step - loss: 0.1968 - accuracy: 0.9313 - val_loss: 0.2719 - val_accuracy: 0.9688\n"
          ],
          "name": "stdout"
        }
      ]
    },
    {
      "cell_type": "code",
      "metadata": {
        "colab": {
          "base_uri": "https://localhost:8080/",
          "height": 279
        },
        "id": "zHYNWMNmlQDy",
        "outputId": "15af50ce-2351-4ff0-a198-e26d0fb0d19c"
      },
      "source": [
        "from matplotlib import pyplot as plt\r\n",
        "plt.plot(hist.history['loss'],'r',label='trainingloss')\r\n",
        "plt.plot(hist.history['val_loss'],label='validation loss')\r\n",
        "plt.xlabel('# epochs')\r\n",
        "plt.ylabel('loss')\r\n",
        "plt.legend()\r\n",
        "plt.show()"
      ],
      "execution_count": 21,
      "outputs": [
        {
          "output_type": "display_data",
          "data": {
            "image/png": "[encoded data removed]",
            "text/plain": [
              "<Figure size 432x288 with 1 Axes>"
            ]
          },
          "metadata": {
            "tags": [],
            "needs_background": "light"
          }
        }
      ]
    },
    {
      "cell_type": "code",
      "metadata": {
        "colab": {
          "base_uri": "https://localhost:8080/",
          "height": 279
        },
        "id": "U7qw68K-nFwF",
        "outputId": "3880644d-2d6f-4dce-8920-409f0ffe800e"
      },
      "source": [
        "plt.plot(hist.history['accuracy'],'r',label='training accuracy')\r\n",
        "plt.plot(hist.history['val_accuracy'],label='validation accuracy')\r\n",
        "plt.xlabel('#epochs')\r\n",
        "plt.ylabel('loss')\r\n",
        "plt.legend()\r\n",
        "plt.show()"
      ],
      "execution_count": 25,
      "outputs": [
        {
          "output_type": "display_data",
          "data": {
            "image/png": "[encoded data removed]",
            "text/plain": [
              "<Figure size 432x288 with 1 Axes>"
            ]
          },
          "metadata": {
            "tags": [],
            "needs_background": "light"
          }
        }
      ]
    }
  ]
}